{
 "cells": [
  {
   "cell_type": "code",
   "execution_count": 1,
   "metadata": {},
   "outputs": [],
   "source": [
    "#Importing the libraries.\n",
    "import numpy as np\n",
    "import pandas as pd "
   ]
  },
  {
   "cell_type": "code",
   "execution_count": 2,
   "metadata": {},
   "outputs": [
    {
     "name": "stderr",
     "output_type": "stream",
     "text": [
      "Using TensorFlow backend.\n"
     ]
    }
   ],
   "source": [
    "import keras\n",
    "from keras.models import Sequential\n",
    "from keras.layers import Dense\n",
    "from keras.layers import Conv2D\n",
    "from keras.layers import MaxPooling2D\n",
    "from keras.layers import Flatten\n",
    "import tensorflow as tf\n",
    "\n"
   ]
  },
  {
   "cell_type": "code",
   "execution_count": 3,
   "metadata": {},
   "outputs": [],
   "source": [
    "#Initializing the model.\n",
    "model=Sequential()     "
   ]
  },
  {
   "cell_type": "code",
   "execution_count": 4,
   "metadata": {},
   "outputs": [
    {
     "name": "stdout",
     "output_type": "stream",
     "text": [
      "WARNING:tensorflow:From C:\\ProgramData\\Anaconda3\\lib\\site-packages\\tensorflow\\python\\framework\\op_def_library.py:263: colocate_with (from tensorflow.python.framework.ops) is deprecated and will be removed in a future version.\n",
      "Instructions for updating:\n",
      "Colocations handled automatically by placer.\n"
     ]
    },
    {
     "name": "stderr",
     "output_type": "stream",
     "text": [
      "C:\\ProgramData\\Anaconda3\\lib\\site-packages\\ipykernel_launcher.py:3: UserWarning: Update your `Conv2D` call to the Keras 2 API: `Conv2D(128, (3, 3), input_shape=(128, 128,..., activation=\"relu\")`\n",
      "  This is separate from the ipykernel package so we can avoid doing imports until\n"
     ]
    }
   ],
   "source": [
    "model.add(Conv2D(128,3,3,input_shape=(128,128,3),activation='relu'))\n",
    "\n",
    "#128-no.of feature extraction,for better extraction"
   ]
  },
  {
   "cell_type": "code",
   "execution_count": 5,
   "metadata": {},
   "outputs": [],
   "source": [
    "#Adding maxpooling layer here.\n",
    "\n",
    "model.add(MaxPooling2D(pool_size=(2,2)))   "
   ]
  },
  {
   "cell_type": "code",
   "execution_count": 6,
   "metadata": {},
   "outputs": [],
   "source": [
    "#Adding a Flatten layer to the cnn which converts many dimensions many dimensions into 1-Dimensional.\n",
    "\n",
    "model.add(Flatten())  "
   ]
  },
  {
   "cell_type": "code",
   "execution_count": 7,
   "metadata": {},
   "outputs": [
    {
     "name": "stderr",
     "output_type": "stream",
     "text": [
      "C:\\ProgramData\\Anaconda3\\lib\\site-packages\\ipykernel_launcher.py:3: UserWarning: Update your `Dense` call to the Keras 2 API: `Dense(activation=\"relu\", units=128, kernel_initializer=\"random_uniform\")`\n",
      "  This is separate from the ipykernel package so we can avoid doing imports until\n"
     ]
    }
   ],
   "source": [
    "#Hidden layer of ANN.\n",
    "\n",
    "model.add(Dense(output_dim=128,activation='relu',init='random_uniform'))"
   ]
  },
  {
   "cell_type": "code",
   "execution_count": 8,
   "metadata": {},
   "outputs": [
    {
     "name": "stderr",
     "output_type": "stream",
     "text": [
      "C:\\ProgramData\\Anaconda3\\lib\\site-packages\\ipykernel_launcher.py:3: UserWarning: Update your `Dense` call to the Keras 2 API: `Dense(activation=\"softmax\", units=4, kernel_initializer=\"random_uniform\")`\n",
      "  This is separate from the ipykernel package so we can avoid doing imports until\n"
     ]
    }
   ],
   "source": [
    "#Output layer of ANN.\n",
    "# As the data is categorical,we use 'softmax' as the activation function.\n",
    "                                                                           \n",
    "model.add(Dense(output_dim=4,activation='softmax',init='random_uniform'))  "
   ]
  },
  {
   "cell_type": "code",
   "execution_count": 9,
   "metadata": {},
   "outputs": [],
   "source": [
    "#We use 'categorical_crossentropy' as loss.\n",
    "\n",
    "model.compile(optimizer='adam',loss='categorical_crossentropy',metrics=['accuracy']) "
   ]
  },
  {
   "cell_type": "code",
   "execution_count": 10,
   "metadata": {},
   "outputs": [],
   "source": [
    "#Importing libraries.\n",
    "from keras.preprocessing.image import ImageDataGenerator   "
   ]
  },
  {
   "cell_type": "code",
   "execution_count": 11,
   "metadata": {},
   "outputs": [],
   "source": [
    "#Steps for rescaling the images into the range of 0 to 1.\n",
    "\n",
    "train_datagen = ImageDataGenerator(rescale=1./255,shear_range=0.2,zoom_range=0.2,horizontal_flip=True)\n",
    "test_datagen = ImageDataGenerator(rescale=1./255)                                                     "
   ]
  },
  {
   "cell_type": "code",
   "execution_count": 12,
   "metadata": {},
   "outputs": [
    {
     "name": "stdout",
     "output_type": "stream",
     "text": [
      "Found 3100 images belonging to 4 classes.\n",
      "Found 900 images belonging to 4 classes.\n"
     ]
    }
   ],
   "source": [
    "#Splitting the data into x_train and x_test variables for further training and testing of the data.\n",
    "\n",
    "x_train=train_datagen.flow_from_directory(\"C:/Users/Sai surya teja/Desktop/last/train_set\",target_size=(128,128),batch_size=10,class_mode='categorical')\n",
    "x_test=test_datagen.flow_from_directory(\"C:/Users/Sai surya teja/Desktop/last/test_set\",target_size=(128,128),batch_size=10,class_mode='categorical')\n"
   ]
  },
  {
   "cell_type": "code",
   "execution_count": 13,
   "metadata": {},
   "outputs": [
    {
     "name": "stdout",
     "output_type": "stream",
     "text": [
      "{'hello': 0, 'one': 1, 'three': 2, 'victory': 3}\n"
     ]
    }
   ],
   "source": [
    "#classes in the dataset.\n",
    "\n",
    "print(x_train.class_indices) "
   ]
  },
  {
   "cell_type": "code",
   "execution_count": 14,
   "metadata": {},
   "outputs": [
    {
     "name": "stdout",
     "output_type": "stream",
     "text": [
      "WARNING:tensorflow:From C:\\ProgramData\\Anaconda3\\lib\\site-packages\\tensorflow\\python\\ops\\math_ops.py:3066: to_int32 (from tensorflow.python.ops.math_ops) is deprecated and will be removed in a future version.\n",
      "Instructions for updating:\n",
      "Use tf.cast instead.\n"
     ]
    },
    {
     "name": "stderr",
     "output_type": "stream",
     "text": [
      "C:\\ProgramData\\Anaconda3\\lib\\site-packages\\ipykernel_launcher.py:1: UserWarning: The semantics of the Keras 2 argument `steps_per_epoch` is not the same as the Keras 1 argument `samples_per_epoch`. `steps_per_epoch` is the number of batches to draw from the generator at each epoch. Basically steps_per_epoch = samples_per_epoch/batch_size. Similarly `nb_val_samples`->`validation_steps` and `val_samples`->`steps` arguments have changed. Update your method calls accordingly.\n",
      "  \"\"\"Entry point for launching an IPython kernel.\n",
      "C:\\ProgramData\\Anaconda3\\lib\\site-packages\\ipykernel_launcher.py:1: UserWarning: Update your `fit_generator` call to the Keras 2 API: `fit_generator(<keras_pre..., epochs=10, validation_data=<keras_pre..., steps_per_epoch=310, validation_steps=900)`\n",
      "  \"\"\"Entry point for launching an IPython kernel.\n"
     ]
    },
    {
     "name": "stdout",
     "output_type": "stream",
     "text": [
      "Epoch 1/10\n",
      "310/310 [==============================] - 448s 1s/step - loss: 0.4015 - acc: 0.8594 - val_loss: 0.4258 - val_acc: 0.8378\n",
      "Epoch 2/10\n",
      "310/310 [==============================] - 675s 2s/step - loss: 0.1222 - acc: 0.9645 - val_loss: 0.3401 - val_acc: 0.8778\n",
      "Epoch 3/10\n",
      "310/310 [==============================] - 469s 2s/step - loss: 0.0442 - acc: 0.9868 - val_loss: 0.5288 - val_acc: 0.8600\n",
      "Epoch 4/10\n",
      "310/310 [==============================] - 749s 2s/step - loss: 0.0361 - acc: 0.9874 - val_loss: 0.5622 - val_acc: 0.8700\n",
      "Epoch 5/10\n",
      "310/310 [==============================] - 738s 2s/step - loss: 0.0345 - acc: 0.9871 - val_loss: 0.3871 - val_acc: 0.8789\n",
      "Epoch 6/10\n",
      "310/310 [==============================] - 1297s 4s/step - loss: 0.0171 - acc: 0.9952 - val_loss: 0.6673 - val_acc: 0.8489\n",
      "Epoch 7/10\n",
      "310/310 [==============================] - 579s 2s/step - loss: 0.0128 - acc: 0.9961 - val_loss: 0.3202 - val_acc: 0.9178\n",
      "Epoch 8/10\n",
      "310/310 [==============================] - 378s 1s/step - loss: 0.0322 - acc: 0.9887 - val_loss: 0.3778 - val_acc: 0.8878\n",
      "Epoch 9/10\n",
      "310/310 [==============================] - 378s 1s/step - loss: 0.0297 - acc: 0.9894 - val_loss: 0.6068 - val_acc: 0.8622\n",
      "Epoch 10/10\n",
      "310/310 [==============================] - 393s 1s/step - loss: 0.0158 - acc: 0.9958 - val_loss: 0.4063 - val_acc: 0.9056\n"
     ]
    },
    {
     "data": {
      "text/plain": [
       "<keras.callbacks.History at 0x21b5aaa0748>"
      ]
     },
     "execution_count": 14,
     "metadata": {},
     "output_type": "execute_result"
    }
   ],
   "source": [
    "#Training the model.\n",
    "\n",
    "model.fit_generator(x_train, samples_per_epoch = 3100, epochs = 10, validation_data = x_test, nb_val_samples = 900) "
   ]
  },
  {
   "cell_type": "code",
   "execution_count": 16,
   "metadata": {},
   "outputs": [],
   "source": [
    "#Saving the model.\n",
    "\n",
    "model.save('new_model.h5') "
   ]
  },
  {
   "cell_type": "code",
   "execution_count": null,
   "metadata": {},
   "outputs": [],
   "source": []
  },
  {
   "cell_type": "code",
   "execution_count": null,
   "metadata": {},
   "outputs": [],
   "source": []
  }
 ],
 "metadata": {
  "kernelspec": {
   "display_name": "Python 3",
   "language": "python",
   "name": "python3"
  },
  "language_info": {
   "codemirror_mode": {
    "name": "ipython",
    "version": 3
   },
   "file_extension": ".py",
   "mimetype": "text/x-python",
   "name": "python",
   "nbconvert_exporter": "python",
   "pygments_lexer": "ipython3",
   "version": "3.7.3"
  }
 },
 "nbformat": 4,
 "nbformat_minor": 2
}
